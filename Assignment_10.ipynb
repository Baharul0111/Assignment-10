{
 "cells": [
  {
   "cell_type": "code",
   "execution_count": 1,
   "metadata": {},
   "outputs": [],
   "source": [
    "#question 1\n",
    "class vehicle:\n",
    "    def __init__(self, name_of_vehicle, max_speed, average_of_vehicle):\n",
    "        self.name_of_vehicle=name_of_vehicle\n",
    "        self.max_speed=max_speed\n",
    "        self.average_of_vehicle=average_of_vehicle"
   ]
  },
  {
   "cell_type": "code",
   "execution_count": 2,
   "metadata": {},
   "outputs": [],
   "source": [
    "#question 2\n",
    "class car(vehicle):\n",
    "    def seating_capacity(self, capacity):\n",
    "        self.seating_capac=capacity\n",
    "        return self.name_of_vehicle, self.seating_capac"
   ]
  },
  {
   "cell_type": "code",
   "execution_count": 3,
   "metadata": {},
   "outputs": [
    {
     "name": "stdout",
     "output_type": "stream",
     "text": [
      "This is child function\n",
      "this is mother function\n",
      "This is father\n"
     ]
    }
   ],
   "source": [
    "#question 3\n",
    "''' Multiple inheritance means that a subclass can inherit from two or more superclasses.'''\n",
    "class father:\n",
    "    def father_func(self):\n",
    "        print(\"This is father\")\n",
    "        \n",
    "class mother:\n",
    "    def mother_func(self):\n",
    "        print(\"this is mother function\")\n",
    "        \n",
    "class child(father, mother):\n",
    "    def child_func(self):\n",
    "        print(\"This is child function\")\n",
    "        \n",
    "child_obj=child()\n",
    "child_obj.child_func()\n",
    "child_obj.mother_func()\n",
    "child_obj.father_func()"
   ]
  },
  {
   "cell_type": "code",
   "execution_count": 6,
   "metadata": {},
   "outputs": [
    {
     "name": "stdout",
     "output_type": "stream",
     "text": [
      "20\n",
      "Rahul\n"
     ]
    }
   ],
   "source": [
    "#question 4\n",
    "'''In Python, getter and setter methods are used to access and modify the private attributes of a class. They are part of the concept of encapsulation, allowing controlled access to the internal state of an object.'''\n",
    "class Person:\n",
    "    def __init__(self, name, age):\n",
    "        self.__name=name\n",
    "        self.__age=age\n",
    "    \n",
    "    def set_name(self, new_name):\n",
    "        self.__name=new_name\n",
    "        \n",
    "    def get_name(self):\n",
    "        return self.__name\n",
    "    \n",
    "    def set_age(self, new_age):\n",
    "        self.__age=new_age\n",
    "    \n",
    "    def get_age(self):\n",
    "        return self.__age\n",
    "    \n",
    "Rahul=Person(\"Rahul\", 20)\n",
    "print(Rahul.get_age())\n",
    "print(Rahul.get_name())"
   ]
  },
  {
   "cell_type": "code",
   "execution_count": 7,
   "metadata": {},
   "outputs": [
    {
     "name": "stdout",
     "output_type": "stream",
     "text": [
      "Cat Mews\n",
      "Dog Barks\n",
      "Any sound\n"
     ]
    }
   ],
   "source": [
    "#question 5\n",
    "'''Method overriding in Python occurs when a subclass provides a specific implementation for a method that is already defined in its superclass. The overridden method in the subclass has the same name, return type, and parameters as the method in the superclass.'''\n",
    "class Animal:\n",
    "    def make_sound(self):\n",
    "        print(\"Any sound\")\n",
    "    \n",
    "class Dog(Animal):\n",
    "    def make_sound(self):\n",
    "        print(\"Dog Barks\")\n",
    "\n",
    "class Cat(Animal):\n",
    "    def make_sound(self):\n",
    "        print(\"Cat Mews\")\n",
    "\n",
    "cat=Cat()\n",
    "dog=Dog()\n",
    "animal=Animal()\n",
    "cat.make_sound()\n",
    "dog.make_sound()\n",
    "animal.make_sound()"
   ]
  },
  {
   "cell_type": "code",
   "execution_count": null,
   "metadata": {},
   "outputs": [],
   "source": []
  }
 ],
 "metadata": {
  "kernelspec": {
   "display_name": "Python 3",
   "language": "python",
   "name": "python3"
  },
  "language_info": {
   "codemirror_mode": {
    "name": "ipython",
    "version": 3
   },
   "file_extension": ".py",
   "mimetype": "text/x-python",
   "name": "python",
   "nbconvert_exporter": "python",
   "pygments_lexer": "ipython3",
   "version": "3.9.6"
  }
 },
 "nbformat": 4,
 "nbformat_minor": 2
}
